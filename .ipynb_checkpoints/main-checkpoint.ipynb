{
 "cells": [
  {
   "cell_type": "code",
   "execution_count": 1,
   "metadata": {},
   "outputs": [
    {
     "name": "stdout",
     "output_type": "stream",
     "text": [
      "{'has_more': 0,\n",
      " 'has_total': 0,\n",
      " 'location_suggestions': [{'country_flag_url': 'https://b.zmtcdn.com/images/countries/flags/country_216.png',\n",
      "                           'country_id': 216,\n",
      "                           'country_name': 'United States',\n",
      "                           'discovery_enabled': 1,\n",
      "                           'has_go_out_tab': 0,\n",
      "                           'has_new_ad_format': 0,\n",
      "                           'id': 301,\n",
      "                           'is_state': 0,\n",
      "                           'name': 'Phoenix, AZ',\n",
      "                           'should_experiment_with': 0,\n",
      "                           'state_code': 'AZ',\n",
      "                           'state_id': 72,\n",
      "                           'state_name': 'Arizona'}],\n",
      " 'status': 'success',\n",
      " 'user_has_addresses': True}\n",
      "{'establishments': [{'establishment': {'id': 101, 'name': 'Diner'}},\n",
      "                    {'establishment': {'id': 23, 'name': 'Dessert Parlour'}},\n",
      "                    {'establishment': {'id': 281, 'name': 'Fast Food'}},\n",
      "                    {'establishment': {'id': 285, 'name': 'Fast Casual'}},\n",
      "                    {'establishment': {'id': 16, 'name': 'Casual Dining'}},\n",
      "                    {'establishment': {'id': 275, 'name': 'Pizzeria'}},\n",
      "                    {'establishment': {'id': 31, 'name': 'Bakery'}},\n",
      "                    {'establishment': {'id': 282, 'name': 'Taqueria'}},\n",
      "                    {'establishment': {'id': 161, 'name': 'Microbrewery'}},\n",
      "                    {'establishment': {'id': 7, 'name': 'Bar'}},\n",
      "                    {'establishment': {'id': 1, 'name': 'Café'}},\n",
      "                    {'establishment': {'id': 271, 'name': 'Sandwich Shop'}},\n",
      "                    {'establishment': {'id': 18, 'name': 'Fine Dining'}},\n",
      "                    {'establishment': {'id': 278, 'name': 'Wine Bar'}},\n",
      "                    {'establishment': {'id': 295, 'name': 'Noodle Shop'}},\n",
      "                    {'establishment': {'id': 21, 'name': 'Quick Bites'}},\n",
      "                    {'establishment': {'id': 286, 'name': 'Coffee Shop'}},\n",
      "                    {'establishment': {'id': 24, 'name': 'Deli'}},\n",
      "                    {'establishment': {'id': 283, 'name': 'Brewery'}},\n",
      "                    {'establishment': {'id': 6, 'name': 'Pub'}},\n",
      "                    {'establishment': {'id': 284, 'name': 'Juice Bar'}},\n",
      "                    {'establishment': {'id': 81, 'name': 'Food Truck'}},\n",
      "                    {'establishment': {'id': 5, 'name': 'Lounge'}},\n",
      "                    {'establishment': {'id': 91, 'name': 'Bistro'}},\n",
      "                    {'establishment': {'id': 41, 'name': 'Beverage Shop'}},\n",
      "                    {'establishment': {'id': 20, 'name': 'Food Court'}},\n",
      "                    {'establishment': {'id': 8, 'name': 'Club'}}]}\n"
     ]
    }
   ],
   "source": [
    "import requests\n",
    "from pprint import pprint\n",
    "\n",
    "header={\"user_key\": \"a52bbbb87591b658b33e7a16c3415706\"}\n",
    "\n",
    "city_url=\"https://developers.zomato.com/api/v2.1/cities?q=Phoenix\"\n",
    "city_response = requests.get(city_url, headers=header)\n",
    "pprint(city_response.json())\n",
    "\n",
    "est_url=\"https://developers.zomato.com/api/v2.1/establishments?city_id=301\"\n",
    "est_response = requests.get(est_url, headers=header)\n",
    "pprint(est_response.json())\n"
   ]
  },
  {
   "cell_type": "code",
   "execution_count": null,
   "metadata": {},
   "outputs": [],
   "source": []
  }
 ],
 "metadata": {
  "kernelspec": {
   "display_name": "Python 3",
   "language": "python",
   "name": "python3"
  },
  "language_info": {
   "codemirror_mode": {
    "name": "ipython",
    "version": 3
   },
   "file_extension": ".py",
   "mimetype": "text/x-python",
   "name": "python",
   "nbconvert_exporter": "python",
   "pygments_lexer": "ipython3",
   "version": "3.7.3"
  }
 },
 "nbformat": 4,
 "nbformat_minor": 2
}
