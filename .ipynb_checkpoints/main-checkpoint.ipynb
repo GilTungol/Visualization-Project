{
 "cells": [
  {
   "cell_type": "code",
   "execution_count": 7,
   "metadata": {},
   "outputs": [
    {
     "name": "stdout",
     "output_type": "stream",
     "text": [
      "{'has_more': 0,\n",
      " 'has_total': 0,\n",
      " 'location_suggestions': [{'country_flag_url': 'https://b.zmtcdn.com/images/countries/flags/country_216.png',\n",
      "                           'country_id': 216,\n",
      "                           'country_name': 'United States',\n",
      "                           'discovery_enabled': 1,\n",
      "                           'has_go_out_tab': 0,\n",
      "                           'has_new_ad_format': 0,\n",
      "                           'id': 301,\n",
      "                           'is_state': 0,\n",
      "                           'name': 'Phoenix, AZ',\n",
      "                           'should_experiment_with': 0,\n",
      "                           'state_code': 'AZ',\n",
      "                           'state_id': 72,\n",
      "                           'state_name': 'Arizona'}],\n",
      " 'status': 'success',\n",
      " 'user_has_addresses': True}\n"
     ]
    }
   ],
   "source": [
    "import requests\n",
    "from pprint import pprint\n",
    "\n",
    "url=\"https://developers.zomato.com/api/v2.1/cities?q=Phoenix\"\n",
    "header={\"user_key\": \"a52bbbb87591b658b33e7a16c3415706\"}\n",
    "\n",
    "response = requests.get(url, headers=header)\n",
    "\n",
    "pprint(response.json())\n"
   ]
  }
 ],
 "metadata": {
  "kernelspec": {
   "display_name": "Python 3",
   "language": "python",
   "name": "python3"
  },
  "language_info": {
   "codemirror_mode": {
    "name": "ipython",
    "version": 3
   },
   "file_extension": ".py",
   "mimetype": "text/x-python",
   "name": "python",
   "nbconvert_exporter": "python",
   "pygments_lexer": "ipython3",
   "version": "3.7.3"
  }
 },
 "nbformat": 4,
 "nbformat_minor": 2
}
