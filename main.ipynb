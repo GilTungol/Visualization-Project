{
 "cells": [
  {
   "cell_type": "code",
   "execution_count": null,
   "metadata": {},
   "outputs": [],
   "source": [
    "import requests\n",
    "from pprint import pprint\n",
    "\n",
    "url = \"https://developers.zomato.com/api/v2.1/cities?q=scottsdale&count=10\"\n",
    "header = {\"User-agent\": \"curl/7.43.0\", \"Accept\": \"application/json\", \"user_key\": \"a52bbbb87591b658b33e7a16c3415706\"}\n",
    "\n",
    "response = requests.get(url headers=header)\n",
    "\n",
    "pprint(response.json())"
   ]
  }
 ],
 "metadata": {
  "kernelspec": {
   "display_name": "PowerShell",
   "language": "powershell",
   "name": "powershell"
  }
 },
 "nbformat": 4,
 "nbformat_minor": 2
}
